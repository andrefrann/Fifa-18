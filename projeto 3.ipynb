{
 "cells": [
  {
   "cell_type": "markdown",
   "metadata": {},
   "source": [
    "# PROJETO 3 \n",
    "## André Annunziato, Bruno Tricate e Vitor Carreta"
   ]
  },
  {
   "cell_type": "markdown",
   "metadata": {},
   "source": [
    "### O intuito do projeto é verificar se há e qual é a relação entre o potencial de um jogador, sua atual classificação e seu valor de mercado no FIFA 18. Para isso, fizemos uma regressão linear múltipla."
   ]
  },
  {
   "cell_type": "code",
   "execution_count": null,
   "metadata": {
    "collapsed": false
   },
   "outputs": [],
   "source": [
    "# Importando todas as bibliotecas a serem usadas\n",
    "import numpy as np\n",
    "import statsmodels.api as sm\n",
    "import pandas as pd\n",
    "import matplotlib.pyplot as plt\n",
    "from mpl_toolkits.mplot3d import Axes3D\n",
    "from math import *\n",
    "import scipy.stats as stats"
   ]
  },
  {
   "cell_type": "code",
   "execution_count": null,
   "metadata": {
    "collapsed": false
   },
   "outputs": [],
   "source": [
    "# Lendo os datasets e filtrando as colunas\n",
    "dados = pd.read_csv('PlayerPersonalData.csv')\n",
    "dados = dados.drop('Photo', axis=1)\n",
    "dados = dados.drop('Unnamed: 0', axis=1)\n",
    "dados = dados.drop('Unnamed: 0.1', axis=1)\n",
    "dados = dados.drop('Flag', axis=1)\n",
    "dados = dados.drop('Club Logo', axis=1)\n",
    "dados = dados.drop('Wage', axis=1)\n",
    "dados = dados.drop('Special', axis=1)\n",
    "data = dados[pd.notnull(dados.Value) & pd.notnull(dados.Overall) & pd.notnull(dados.Potential)]"
   ]
  },
  {
   "cell_type": "markdown",
   "metadata": {},
   "source": [
    "#### Para podermos manusear os valores, precisamos transformá-los de strings para números."
   ]
  },
  {
   "cell_type": "code",
   "execution_count": null,
   "metadata": {
    "collapsed": false
   },
   "outputs": [],
   "source": [
    "Vm = []\n",
    "Vk = []\n",
    "V = []\n",
    "for i in data.Value:\n",
    "    if \"M\" in i:\n",
    "        x = i.replace(\"€\",\"\")\n",
    "        x = x.replace(\"M\",\"\")\n",
    "        x = float(x)\n",
    "        V.append(x*1000)\n",
    "        \n",
    "\n",
    "    elif \"K\" in i:\n",
    "        x = i.replace(\"€\",\"\")\n",
    "        x = x.replace(\"K\",\"\")  \n",
    "        x = float(x)\n",
    "        V.append(x)\n",
    "    else:\n",
    "        V.append(0)\n",
    "\n",
    "Valor = pd.Series(V)\n",
    "data[\"Valor\"] = Valor"
   ]
  },
  {
   "cell_type": "markdown",
   "metadata": {},
   "source": [
    "### Em seguida, fizemos a correlação entre os três atributos anteriormente ditos."
   ]
  },
  {
   "cell_type": "code",
   "execution_count": null,
   "metadata": {
    "collapsed": false,
    "scrolled": false
   },
   "outputs": [],
   "source": [
    "fig = plt.figure()\n",
    "ax = fig.add_subplot(111,projection = '3d')\n",
    "\n",
    "ax.scatter(data.Overall,data.Potential,data.Valor)\n",
    "plt.title(\"Correlação overall x potencial x valor\")\n",
    "plt.show()"
   ]
  },
  {
   "cell_type": "markdown",
   "metadata": {},
   "source": [
    "### Porém, percebemos que a relação era aproximadamente exponencial, portanto, utilizamos o logaritmo do Valor para obtermos a relação linear."
   ]
  },
  {
   "cell_type": "code",
   "execution_count": null,
   "metadata": {
    "collapsed": false,
    "scrolled": true
   },
   "outputs": [],
   "source": [
    "Vlog = []\n",
    "for i in V:\n",
    "    if i>0:\n",
    "        Vlog.append(log(i))\n",
    "    else:\n",
    "        Vlog.append(i)\n",
    "\n",
    "Valor_log = pd.Series(Vlog)\n",
    "data[\"Valorlog\"] = Valor_log\n",
    "data = data[pd.notnull(data[\"Valorlog\"])]"
   ]
  },
  {
   "cell_type": "code",
   "execution_count": null,
   "metadata": {
    "collapsed": false,
    "scrolled": true
   },
   "outputs": [],
   "source": [
    "fig = plt.figure()\n",
    "ax = fig.add_subplot(111,projection = '3d')\n",
    "\n",
    "ax.scatter(data.Overall,data.Potential,data.Valorlog)\n",
    "plt.title(\"Correlação overall x potencial x valor(em log)\")\n",
    "plt.show()"
   ]
  },
  {
   "cell_type": "markdown",
   "metadata": {},
   "source": [
    "### Agora, utilizamos a biblioteca statsmodels para obtermos os valores da regressão linear."
   ]
  },
  {
   "cell_type": "code",
   "execution_count": null,
   "metadata": {
    "collapsed": false,
    "scrolled": false
   },
   "outputs": [],
   "source": [
    "y = data.Valorlog\n",
    "x = np.column_stack((data.Overall,data.Potential))\n",
    "x = sm.add_constant(x, prepend=True)\n",
    "res = sm.OLS(y,x).fit()\n",
    "res.summary()"
   ]
  },
  {
   "cell_type": "markdown",
   "metadata": {},
   "source": [
    "### Como pode ser observado, o valor de determinação entre as três variáveis é alto (R-squared = 70.1%), portanto, o cálculo do valor pode ser bem aproximado por uma relação entre classificação e potencial."
   ]
  },
  {
   "cell_type": "code",
   "execution_count": null,
   "metadata": {
    "collapsed": false
   },
   "outputs": [],
   "source": [
    "x1 = 0.1385\n",
    "x2 = 0.0802\n",
    "const = -8.2644\n",
    "\n",
    "\n",
    "y = data.Overall*x1 + data.Potential*x2 + const\n",
    "\n",
    "fig = plt.figure()\n",
    "ax = fig.add_subplot(111,projection = '3d')\n",
    "ax.plot_wireframe(data.Overall,data.Potential,y)\n",
    "plt.title(\"Plano estimado com base na correlação\")\n",
    "plt.show()"
   ]
  },
  {
   "cell_type": "markdown",
   "metadata": {},
   "source": [
    "### Para efeito de confirmação, calculamos o resíduo da nossa regressão, ou seja, a diferença entre os valores reais e os estimados pelo plano."
   ]
  },
  {
   "cell_type": "code",
   "execution_count": null,
   "metadata": {
    "collapsed": false,
    "scrolled": true
   },
   "outputs": [],
   "source": [
    "residuo = data.Valor - y"
   ]
  },
  {
   "cell_type": "code",
   "execution_count": null,
   "metadata": {
    "collapsed": false
   },
   "outputs": [],
   "source": [
    "plt.hist(residuo,bins = 100)\n",
    "plt.title(\"Histograma de resíduos\")\n",
    "plt.show()"
   ]
  },
  {
   "cell_type": "markdown",
   "metadata": {},
   "source": [
    "### O histograma de densidade acima nos mostra que há uma frequência muito maior de resíduos muito pequenos, menores que 10 milhões de euros. Portanto, jogadores supervalorizados, podem dar uma diferença muito grande."
   ]
  },
  {
   "cell_type": "markdown",
   "metadata": {},
   "source": [
    "### Exemplo:"
   ]
  },
  {
   "cell_type": "markdown",
   "metadata": {},
   "source": [
    "#### Vamos calcular o valor de mercado do jogador brasileiro Gabriel Jesus:"
   ]
  },
  {
   "cell_type": "code",
   "execution_count": null,
   "metadata": {
    "collapsed": false
   },
   "outputs": [],
   "source": [
    "data[data.Name == \"Gabriel Jesus\"]"
   ]
  },
  {
   "cell_type": "code",
   "execution_count": null,
   "metadata": {
    "collapsed": true
   },
   "outputs": [],
   "source": [
    "valor = 81*x1 + 92*x2 + const"
   ]
  },
  {
   "cell_type": "code",
   "execution_count": null,
   "metadata": {
    "collapsed": false
   },
   "outputs": [],
   "source": [
    "exp(valor)"
   ]
  },
  {
   "cell_type": "markdown",
   "metadata": {},
   "source": [
    "#### Como podemos ver, o valor calculado deu bem próximo do valor real, portanto nossa regressão é válida."
   ]
  },
  {
   "cell_type": "markdown",
   "metadata": {},
   "source": [
    "### Tente você mesmo!"
   ]
  },
  {
   "cell_type": "code",
   "execution_count": null,
   "metadata": {
    "collapsed": false
   },
   "outputs": [],
   "source": [
    "jogador = input(\"Digite o nome de um Jogador (digite como aparece no jogo): \")\n",
    "\n",
    "nome = data[data.Name == jogador].head(1)\n",
    "valor = nome.Overall*x1 + nome.Potential*x2 + const\n",
    "print(\"Valor calculado: {0:.2f}(em milhares de euros)\".format(exp(valor)))\n",
    "    \n",
    "print(\"Valor real:\\n {0}\".format(data[data.Name == jogador].head(1).Value))"
   ]
  },
  {
   "cell_type": "markdown",
   "metadata": {},
   "source": [
    "### Conclusão\n",
    "#### A nossa regressão consegue uma boa aproximação para jogadores não tão supoervalorizados (por isso, Neymar, Cristiano Ronaldo e Messi retornam valores bem diferentes).\n",
    "#### Como utilizamos o potencial para fazer a regressão, jogadores que são considerados promessas no jogo, dão valores bem próximos (tente na célula acima com \"K. Dolberg\", \"T. Lemar\", \"Casemiro\" ou o próprio Gabriel Jesus."
   ]
  }
 ],
 "metadata": {
  "kernelspec": {
   "display_name": "Python 3",
   "language": "python",
   "name": "python3"
  },
  "language_info": {
   "codemirror_mode": {
    "name": "ipython",
    "version": 3
   },
   "file_extension": ".py",
   "mimetype": "text/x-python",
   "name": "python",
   "nbconvert_exporter": "python",
   "pygments_lexer": "ipython3",
   "version": "3.6.0"
  }
 },
 "nbformat": 4,
 "nbformat_minor": 2
}
